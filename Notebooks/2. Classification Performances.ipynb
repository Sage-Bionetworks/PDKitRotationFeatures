{
 "cells": [
  {
   "cell_type": "markdown",
   "metadata": {},
   "source": [
    "## Classification Performance of Aggregated Features"
   ]
  },
  {
   "cell_type": "markdown",
   "metadata": {},
   "source": [
    "### Import Libraries"
   ]
  },
  {
   "cell_type": "code",
   "execution_count": 13,
   "metadata": {},
   "outputs": [
    {
     "name": "stdout",
     "output_type": "stream",
     "text": [
      "Welcome, Aryton Tediarjo!\n",
      "\n"
     ]
    }
   ],
   "source": [
    "import pandas as pd\n",
    "import numpy as np\n",
    "import synapseclient as sc\n",
    "import seaborn as sns\n",
    "import matplotlib.pyplot as plt\n",
    "import warnings\n",
    "\n",
    "from sklearn.preprocessing import LabelEncoder, StandardScaler, MinMaxScaler\n",
    "from sklearn.linear_model import LogisticRegression,RidgeClassifier\n",
    "from sklearn.pipeline import Pipeline\n",
    "from sklearn.model_selection import train_test_split\n",
    "from sklearn.metrics import accuracy_score, classification_report, roc_auc_score, roc_curve\n",
    "from sklearn.model_selection import cross_validate\n",
    "\n",
    "from sklearn.svm import SVC\n",
    "from sklearn.linear_model import LogisticRegression\n",
    "from sklearn.svm import SVC\n",
    "from sklearn.neighbors import KNeighborsClassifier\n",
    "from sklearn.tree import DecisionTreeClassifier\n",
    "from sklearn.ensemble import RandomForestClassifier, GradientBoostingClassifier\n",
    "\n",
    "sns.set_style(\"darkgrid\", {\"axes.facecolor\": \".9\", 'grid.color': '.8'})\n",
    "warnings.simplefilter(\"ignore\")\n",
    "%matplotlib inline\n",
    "\n",
    "syn = sc.login()"
   ]
  },
  {
   "cell_type": "markdown",
   "metadata": {},
   "source": [
    "### Global Variables"
   ]
  },
  {
   "cell_type": "code",
   "execution_count": 2,
   "metadata": {},
   "outputs": [],
   "source": [
    "AGGREGATED_FEATURES = \"syn22331590\""
   ]
  },
  {
   "cell_type": "markdown",
   "metadata": {},
   "source": [
    "### Retrieve Data"
   ]
  },
  {
   "cell_type": "code",
   "execution_count": 3,
   "metadata": {},
   "outputs": [],
   "source": [
    "data = pd.read_csv(syn.get(AGGREGATED_FEATURES)[\"path\"], sep = \"\\t\").dropna()\n",
    "feat_used = [feat for feat in data.columns \n",
    "             if (\"createdOn\" not in feat) \n",
    "             and (\"window\" not in feat) \n",
    "             and (\"error\" not in feat) \n",
    "             and ('nrecords' not in feat)\n",
    "             and (\"healthCode\" not in feat) \n",
    "             and (\"gender\" not in feat) \n",
    "             and (\"PD\" not in feat) \n",
    "             and (\"age\" not in feat)]"
   ]
  },
  {
   "cell_type": "code",
   "execution_count": 4,
   "metadata": {},
   "outputs": [
    {
     "name": "stdout",
     "output_type": "stream",
     "text": [
      "(2597, 106)\n",
      "(866, 106)\n",
      "(2597,)\n",
      "(866,)\n"
     ]
    }
   ],
   "source": [
    "#Seperate train and test data\n",
    "X_train, X_test, y_train, y_test = train_test_split(data[feat_used],\n",
    "                                                   data['PD'],\n",
    "                                                   test_size = 0.25,\n",
    "                                                   random_state = 100)\n",
    "print(X_train.shape)\n",
    "print(X_test.shape)\n",
    "print(y_train.shape)\n",
    "print(y_test.shape)"
   ]
  },
  {
   "cell_type": "markdown",
   "metadata": {},
   "source": [
    "### Classifiers"
   ]
  },
  {
   "cell_type": "code",
   "execution_count": 5,
   "metadata": {},
   "outputs": [],
   "source": [
    "clfs = []\n",
    "clfs.append(LogisticRegression())\n",
    "clfs.append(RidgeClassifier())\n",
    "clfs.append(SVC())\n",
    "clfs.append(KNeighborsClassifier(n_neighbors=3))\n",
    "clfs.append(DecisionTreeClassifier())\n",
    "clfs.append(RandomForestClassifier(max_depth = 5, \n",
    "                                   random_state = 100, \n",
    "                                   n_estimators = 5000))\n",
    "clfs.append(GradientBoostingClassifier(max_depth = 5, \n",
    "                                       random_state = 100, \n",
    "                                       n_estimators = 1000))"
   ]
  },
  {
   "cell_type": "markdown",
   "metadata": {},
   "source": [
    "### Validation Set Performance (ROC-AUC)"
   ]
  },
  {
   "cell_type": "code",
   "execution_count": 6,
   "metadata": {},
   "outputs": [],
   "source": [
    "model_metrics_placeholder = {}\n",
    "model_metrics_placeholder[\"classifier\"] = []\n",
    "model_metrics_placeholder[\"cross_validation_auc_score\"] = []\n",
    "model_metrics_placeholder[\"cross_validation_std\"] = []\n",
    "model_metrics_placeholder[\"test_auc_score\"] = []"
   ]
  },
  {
   "cell_type": "code",
   "execution_count": 7,
   "metadata": {},
   "outputs": [
    {
     "name": "stdout",
     "output_type": "stream",
     "text": [
      "---------------------------------\n",
      "LogisticRegression(C=1.0, class_weight=None, dual=False, fit_intercept=True,\n",
      "                   intercept_scaling=1, l1_ratio=None, max_iter=100,\n",
      "                   multi_class='auto', n_jobs=None, penalty='l2',\n",
      "                   random_state=None, solver='lbfgs', tol=0.0001, verbose=0,\n",
      "                   warm_start=False)\n",
      "-----------------------------------\n",
      "fit_time  mean  0.04119272232055664\n",
      "fit_time  std  0.009050792168684221\n",
      "score_time  mean  0.0018720388412475585\n",
      "score_time  std  0.00018340459650641227\n",
      "test_score  mean  0.8079767773715657\n",
      "test_score  std  0.036692834019000566\n",
      "---------------------------------\n",
      "RidgeClassifier(alpha=1.0, class_weight=None, copy_X=True, fit_intercept=True,\n",
      "                max_iter=None, normalize=False, random_state=None,\n",
      "                solver='auto', tol=0.001)\n",
      "-----------------------------------\n",
      "fit_time  mean  0.009776544570922852\n",
      "fit_time  std  0.0007986711510258553\n",
      "score_time  mean  0.0022715091705322265\n",
      "score_time  std  0.0003533354687133155\n",
      "test_score  mean  0.8076331144980677\n",
      "test_score  std  0.033841451232582476\n",
      "---------------------------------\n",
      "SVC(C=1.0, break_ties=False, cache_size=200, class_weight=None, coef0=0.0,\n",
      "    decision_function_shape='ovr', degree=3, gamma='scale', kernel='rbf',\n",
      "    max_iter=-1, probability=False, random_state=None, shrinking=True,\n",
      "    tol=0.001, verbose=False)\n",
      "-----------------------------------\n",
      "fit_time  mean  0.3581994533538818\n",
      "fit_time  std  0.010323928430419895\n",
      "score_time  mean  0.03452742099761963\n",
      "score_time  std  0.0013974715384257822\n",
      "test_score  mean  0.8207411049719344\n",
      "test_score  std  0.03141403844071745\n",
      "---------------------------------\n",
      "KNeighborsClassifier(algorithm='auto', leaf_size=30, metric='minkowski',\n",
      "                     metric_params=None, n_jobs=None, n_neighbors=3, p=2,\n",
      "                     weights='uniform')\n",
      "-----------------------------------\n",
      "fit_time  mean  0.01103198528289795\n",
      "fit_time  std  0.0007887250936970981\n",
      "score_time  mean  0.1058361291885376\n",
      "score_time  std  0.004697101570876208\n",
      "test_score  mean  0.6974152228949655\n",
      "test_score  std  0.037933936009587554\n",
      "---------------------------------\n",
      "DecisionTreeClassifier(ccp_alpha=0.0, class_weight=None, criterion='gini',\n",
      "                       max_depth=None, max_features=None, max_leaf_nodes=None,\n",
      "                       min_impurity_decrease=0.0, min_impurity_split=None,\n",
      "                       min_samples_leaf=1, min_samples_split=2,\n",
      "                       min_weight_fraction_leaf=0.0, presort='deprecated',\n",
      "                       random_state=None, splitter='best')\n",
      "-----------------------------------\n",
      "fit_time  mean  0.21200928688049317\n",
      "fit_time  std  0.012095961589773142\n",
      "score_time  mean  0.0020151138305664062\n",
      "score_time  std  0.00015184620817454764\n",
      "test_score  mean  0.628775729892683\n",
      "test_score  std  0.0423528592653684\n",
      "---------------------------------\n",
      "RandomForestClassifier(bootstrap=True, ccp_alpha=0.0, class_weight=None,\n",
      "                       criterion='gini', max_depth=5, max_features='auto',\n",
      "                       max_leaf_nodes=None, max_samples=None,\n",
      "                       min_impurity_decrease=0.0, min_impurity_split=None,\n",
      "                       min_samples_leaf=1, min_samples_split=2,\n",
      "                       min_weight_fraction_leaf=0.0, n_estimators=5000,\n",
      "                       n_jobs=None, oob_score=False, random_state=100,\n",
      "                       verbose=0, warm_start=False)\n",
      "-----------------------------------\n",
      "fit_time  mean  31.96731607913971\n",
      "fit_time  std  1.6693789294522703\n",
      "score_time  mean  0.36022219657897947\n",
      "score_time  std  0.025151784822914382\n",
      "test_score  mean  0.8106170326569829\n",
      "test_score  std  0.03881454866927022\n",
      "---------------------------------\n",
      "GradientBoostingClassifier(ccp_alpha=0.0, criterion='friedman_mse', init=None,\n",
      "                           learning_rate=0.1, loss='deviance', max_depth=5,\n",
      "                           max_features=None, max_leaf_nodes=None,\n",
      "                           min_impurity_decrease=0.0, min_impurity_split=None,\n",
      "                           min_samples_leaf=1, min_samples_split=2,\n",
      "                           min_weight_fraction_leaf=0.0, n_estimators=1000,\n",
      "                           n_iter_no_change=None, presort='deprecated',\n",
      "                           random_state=100, subsample=1.0, tol=0.0001,\n",
      "                           validation_fraction=0.1, verbose=0,\n",
      "                           warm_start=False)\n",
      "-----------------------------------\n",
      "fit_time  mean  60.09942200183868\n",
      "fit_time  std  1.9055758295378433\n",
      "score_time  mean  0.00738523006439209\n",
      "score_time  std  0.00023594178805858379\n",
      "test_score  mean  0.8264586324547969\n",
      "test_score  std  0.0248256011443792\n"
     ]
    }
   ],
   "source": [
    "for classifier in clfs:\n",
    "    pipeline = Pipeline([\n",
    "        ('normalizer', MinMaxScaler()), \n",
    "        ('clf', classifier)])\n",
    "    \n",
    "    scores = cross_validate(pipeline, \n",
    "                            X_train, \n",
    "                            y_train,\n",
    "                            cv = 10, \n",
    "                           scoring = \"roc_auc\")\n",
    "    print('---------------------------------')\n",
    "    print(str(classifier))\n",
    "    print('-----------------------------------')\n",
    "    for key, values in scores.items():\n",
    "            print(key,' mean ', values.mean())\n",
    "            print(key,' std ', values.std())\n",
    "    \n",
    "    model_metrics_placeholder[\"classifier\"].append(type(classifier).__name__)\n",
    "    model_metrics_placeholder[\"cross_validation_auc_score\"].append(scores[\"test_score\"].mean())\n",
    "    model_metrics_placeholder[\"cross_validation_std\"].append(scores[\"test_score\"].std())"
   ]
  },
  {
   "cell_type": "markdown",
   "metadata": {},
   "source": [
    "### Test-set Performance (ROC-AUC)"
   ]
  },
  {
   "cell_type": "code",
   "execution_count": 8,
   "metadata": {},
   "outputs": [
    {
     "name": "stdout",
     "output_type": "stream",
     "text": [
      "---------------------------------\n",
      "LogisticRegression(C=1.0, class_weight=None, dual=False, fit_intercept=True,\n",
      "                   intercept_scaling=1, l1_ratio=None, max_iter=100,\n",
      "                   multi_class='auto', n_jobs=None, penalty='l2',\n",
      "                   random_state=None, solver='lbfgs', tol=0.0001, verbose=0,\n",
      "                   warm_start=False)\n",
      "-----------------------------------\n",
      "ROC-AUC Score on Test-Set 0.7573237597911227 \n",
      "\n",
      "---------------------------------\n",
      "RidgeClassifier(alpha=1.0, class_weight=None, copy_X=True, fit_intercept=True,\n",
      "                max_iter=None, normalize=False, random_state=None,\n",
      "                solver='auto', tol=0.001)\n",
      "-----------------------------------\n",
      "ROC-AUC Score on Test-Set 0.7694422751529351 \n",
      "\n",
      "---------------------------------\n",
      "SVC(C=1.0, break_ties=False, cache_size=200, class_weight=None, coef0=0.0,\n",
      "    decision_function_shape='ovr', degree=3, gamma='scale', kernel='rbf',\n",
      "    max_iter=-1, probability=False, random_state=None, shrinking=True,\n",
      "    tol=0.001, verbose=False)\n",
      "-----------------------------------\n",
      "ROC-AUC Score on Test-Set 0.8076655294854835 \n",
      "\n",
      "---------------------------------\n",
      "KNeighborsClassifier(algorithm='auto', leaf_size=30, metric='minkowski',\n",
      "                     metric_params=None, n_jobs=None, n_neighbors=3, p=2,\n",
      "                     weights='uniform')\n",
      "-----------------------------------\n",
      "ROC-AUC Score on Test-Set 0.62514199935086 \n",
      "\n",
      "---------------------------------\n",
      "DecisionTreeClassifier(ccp_alpha=0.0, class_weight=None, criterion='gini',\n",
      "                       max_depth=None, max_features=None, max_leaf_nodes=None,\n",
      "                       min_impurity_decrease=0.0, min_impurity_split=None,\n",
      "                       min_samples_leaf=1, min_samples_split=2,\n",
      "                       min_weight_fraction_leaf=0.0, presort='deprecated',\n",
      "                       random_state=None, splitter='best')\n",
      "-----------------------------------\n",
      "ROC-AUC Score on Test-Set 0.614972265298819 \n",
      "\n",
      "---------------------------------\n",
      "RandomForestClassifier(bootstrap=True, ccp_alpha=0.0, class_weight=None,\n",
      "                       criterion='gini', max_depth=5, max_features='auto',\n",
      "                       max_leaf_nodes=None, max_samples=None,\n",
      "                       min_impurity_decrease=0.0, min_impurity_split=None,\n",
      "                       min_samples_leaf=1, min_samples_split=2,\n",
      "                       min_weight_fraction_leaf=0.0, n_estimators=5000,\n",
      "                       n_jobs=None, oob_score=False, random_state=100,\n",
      "                       verbose=0, warm_start=False)\n",
      "-----------------------------------\n",
      "ROC-AUC Score on Test-Set 0.8503665189226048 \n",
      "\n",
      "---------------------------------\n",
      "GradientBoostingClassifier(ccp_alpha=0.0, criterion='friedman_mse', init=None,\n",
      "                           learning_rate=0.1, loss='deviance', max_depth=5,\n",
      "                           max_features=None, max_leaf_nodes=None,\n",
      "                           min_impurity_decrease=0.0, min_impurity_split=None,\n",
      "                           min_samples_leaf=1, min_samples_split=2,\n",
      "                           min_weight_fraction_leaf=0.0, n_estimators=1000,\n",
      "                           n_iter_no_change=None, presort='deprecated',\n",
      "                           random_state=100, subsample=1.0, tol=0.0001,\n",
      "                           validation_fraction=0.1, verbose=0,\n",
      "                           warm_start=False)\n",
      "-----------------------------------\n",
      "ROC-AUC Score on Test-Set 0.7644144144144143 \n",
      "\n"
     ]
    }
   ],
   "source": [
    "for classifier in clfs:\n",
    "    print('---------------------------------')\n",
    "    print(str(classifier))\n",
    "    print('-----------------------------------')\n",
    "    pipeline = Pipeline([\n",
    "        ('normalizer', MinMaxScaler()), \n",
    "        ('clf', classifier)])\n",
    "    auc_score = roc_auc_score(pipeline.fit(X_train, y_train).predict(X_test), y_test)\n",
    "    print(\"ROC-AUC Score on Test-Set %s \\n\"%auc_score)\n",
    "    model_metrics_placeholder[\"test_auc_score\"].append(auc_score)"
   ]
  },
  {
   "cell_type": "markdown",
   "metadata": {},
   "source": [
    "## Diagnosing Model Performance"
   ]
  },
  {
   "cell_type": "code",
   "execution_count": 9,
   "metadata": {},
   "outputs": [],
   "source": [
    "pipeline = Pipeline([\n",
    "        ('normalizer', MinMaxScaler()), \n",
    "        ('clf', clfs[5])])"
   ]
  },
  {
   "cell_type": "code",
   "execution_count": 10,
   "metadata": {},
   "outputs": [],
   "source": [
    "model_fit = pipeline.fit(X_train, y_train)\n",
    "proba = model_fit.predict_proba(X_test)\n",
    "proba = pd.DataFrame(proba).rename({0:\"Healthy Probability Score\", \n",
    "                                    1:\"PD Probability Score\"}, axis = 1)\n",
    "label = pd.DataFrame(y_test).reset_index(drop = True)\n",
    "proba_df = pd.concat([proba, label], axis = 1)"
   ]
  },
  {
   "cell_type": "markdown",
   "metadata": {},
   "source": [
    "#### a.) Assigned PD Probability between PD users and Healthy Controls (Random Forest)"
   ]
  },
  {
   "cell_type": "code",
   "execution_count": 14,
   "metadata": {},
   "outputs": [
    {
     "data": {
      "image/png": "[encoded data removed]",
      "text/plain": [
       "<Figure size 720x360 with 1 Axes>"
      ]
     },
     "metadata": {
      "needs_background": "light"
     },
     "output_type": "display_data"
    }
   ],
   "source": [
    "plt.figure(figsize = (10,5))\n",
    "sns.distplot(proba_df[proba_df[\"PD\"] == 0][\"PD Probability Score\"], label = \"Healthy Controls\")\n",
    "sns.distplot(proba_df[proba_df[\"PD\"] == 1][\"PD Probability Score\"], label = \"PD\")\n",
    "sns.despine()\n",
    "\n",
    "plt.title(\"Random Forest Prediction Probability Given Healthy vs PD Users on Test-Set\")\n",
    "plt.xlabel(\"Assigned PD Probability from Model (Random Forest)\")\n",
    "plt.ylabel(\"Density\")\n",
    "plt.legend()\n",
    "plt.show()"
   ]
  },
  {
   "cell_type": "markdown",
   "metadata": {},
   "source": [
    "#### b). ROC Curves (Random Forest)"
   ]
  },
  {
   "cell_type": "code",
   "execution_count": 15,
   "metadata": {},
   "outputs": [],
   "source": [
    "ns_probs = [0 for _ in range(len(y_test))]\n",
    "\n",
    "ns_fpr, ns_tpr, _ = roc_curve(y_test, ns_probs)\n",
    "lr_fpr, lr_tpr, _ = roc_curve(y_test, proba_df[\"PD Probability Score\"])"
   ]
  },
  {
   "cell_type": "code",
   "execution_count": 17,
   "metadata": {},
   "outputs": [
    {
     "data": {
      "image/png": "[encoded data removed]",
      "text/plain": [
       "<Figure size 720x360 with 1 Axes>"
      ]
     },
     "metadata": {
      "needs_background": "light"
     },
     "output_type": "display_data"
    }
   ],
   "source": [
    "plt.figure(figsize = (10,5))\n",
    "plt.plot(ns_fpr, ns_tpr, linestyle='-.', label='Random Guess', color = \"red\")\n",
    "plt.plot(lr_fpr, lr_tpr, marker = \".\",label='Random Forest Model')\n",
    "plt.legend()\n",
    "plt.xlabel('False Positive Rate')\n",
    "plt.ylabel('True Positive Rate')\n",
    "plt.title(\"ROC Curve of Random Forest Model\")\n",
    "plt.show()"
   ]
  }
 ],
 "metadata": {
  "kernelspec": {
   "display_name": "Python 3",
   "language": "python",
   "name": "python3"
  },
  "language_info": {
   "codemirror_mode": {
    "name": "ipython",
    "version": 3
   },
   "file_extension": ".py",
   "mimetype": "text/x-python",
   "name": "python",
   "nbconvert_exporter": "python",
   "pygments_lexer": "ipython3",
   "version": "3.7.4"
  }
 },
 "nbformat": 4,
 "nbformat_minor": 4
}
