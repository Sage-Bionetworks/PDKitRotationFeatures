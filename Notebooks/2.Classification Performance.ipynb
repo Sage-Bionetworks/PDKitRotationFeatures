{
 "cells": [
  {
   "cell_type": "markdown",
   "metadata": {},
   "source": [
    "## Classification Performance of Aggregated Features"
   ]
  },
  {
   "cell_type": "markdown",
   "metadata": {},
   "source": [
    "### Import Libraries"
   ]
  },
  {
   "cell_type": "code",
   "execution_count": 214,
   "metadata": {},
   "outputs": [],
   "source": [
    "import pandas as pd\n",
    "import numpy as np\n",
    "import synapseclient as sc\n",
    "import seaborn as sns\n",
    "import matplotlib.pyplot as plt\n",
    "sns.set_style(\"darkgrid\", {\"axes.facecolor\": \".9\", 'grid.color': '.8'})\n",
    "%matplotlib inline"
   ]
  },
  {
   "cell_type": "code",
   "execution_count": 198,
   "metadata": {},
   "outputs": [],
   "source": [
    "from sklearn.preprocessing import LabelEncoder, StandardScaler, MinMaxScaler\n",
    "from sklearn.linear_model import LogisticRegression,RidgeClassifier\n",
    "from sklearn.pipeline import Pipeline\n",
    "from sklearn.model_selection import train_test_split\n",
    "from sklearn.metrics import accuracy_score, classification_report, roc_auc_score\n",
    "from sklearn.model_selection import cross_validate\n",
    "\n",
    "from sklearn.svm import SVC\n",
    "from sklearn.linear_model import LogisticRegression\n",
    "from sklearn.svm import SVC\n",
    "from sklearn.neighbors import KNeighborsClassifier\n",
    "from sklearn.tree import DecisionTreeClassifier\n",
    "from sklearn.ensemble import RandomForestClassifier, GradientBoostingClassifier"
   ]
  },
  {
   "cell_type": "code",
   "execution_count": 47,
   "metadata": {},
   "outputs": [],
   "source": [
    "data = pd.read_csv(\"cleaned_walk_features.tsv\", sep = \"\\t\").dropna()"
   ]
  },
  {
   "cell_type": "code",
   "execution_count": 62,
   "metadata": {},
   "outputs": [],
   "source": [
    "feat_used = [feat for feat in data.columns \n",
    "             if (\"createdOn\" not in feat) \n",
    "             and (\"window\" not in feat) \n",
    "             and (\"error\" not in feat) \n",
    "             and ('nrecords' not in feat)\n",
    "             and (\"healthCode\" not in feat) \n",
    "             and (\"gender\" not in feat) \n",
    "             and (\"PD\" not in feat) \n",
    "             and (\"age\" not in feat)]"
   ]
  },
  {
   "cell_type": "code",
   "execution_count": 63,
   "metadata": {},
   "outputs": [
    {
     "name": "stdout",
     "output_type": "stream",
     "text": [
      "(2597, 106)\n",
      "(866, 106)\n",
      "(2597,)\n",
      "(866,)\n"
     ]
    }
   ],
   "source": [
    "#Seperate train and test data\n",
    "X_train, X_test, y_train, y_test = train_test_split(data[feat_used],\n",
    "                                                   data['PD'],\n",
    "                                                   test_size = 0.25,\n",
    "                                                   random_state = 100)\n",
    "print(X_train.shape)\n",
    "print(X_test.shape)\n",
    "print(y_train.shape)\n",
    "print(y_test.shape)"
   ]
  },
  {
   "cell_type": "markdown",
   "metadata": {},
   "source": [
    "### Classifiers"
   ]
  },
  {
   "cell_type": "code",
   "execution_count": 200,
   "metadata": {},
   "outputs": [],
   "source": [
    "clfs = []\n",
    "clfs.append(LogisticRegression())\n",
    "clfs.append(RidgeClassifier())\n",
    "clfs.append(SVC())\n",
    "clfs.append(KNeighborsClassifier(n_neighbors=3))\n",
    "clfs.append(DecisionTreeClassifier())\n",
    "clfs.append(RandomForestClassifier(max_depth = 5, \n",
    "                                   random_state = 100, \n",
    "                                   n_estimators = 5000))\n",
    "clfs.append(GradientBoostingClassifier(max_depth = 5, \n",
    "                                       random_state = 100, \n",
    "                                       n_estimators = 1000))"
   ]
  },
  {
   "cell_type": "markdown",
   "metadata": {},
   "source": [
    "### Validation Set Performance (ROC-AUC)"
   ]
  },
  {
   "cell_type": "code",
   "execution_count": 201,
   "metadata": {},
   "outputs": [],
   "source": [
    "model_metrics_placeholder = {}\n",
    "model_metrics_placeholder[\"classifier\"] = []\n",
    "model_metrics_placeholder[\"cross_validation_auc_score\"] = []\n",
    "model_metrics_placeholder[\"cross_validation_std\"] = []\n",
    "model_metrics_placeholder[\"test_auc_score\"] = []"
   ]
  },
  {
   "cell_type": "code",
   "execution_count": 202,
   "metadata": {},
   "outputs": [
    {
     "name": "stdout",
     "output_type": "stream",
     "text": [
      "---------------------------------\n",
      "LogisticRegression()\n",
      "-----------------------------------\n",
      "fit_time  mean  0.04722054004669189\n",
      "fit_time  std  0.0066735865632215315\n",
      "score_time  mean  0.0032083272933959963\n",
      "score_time  std  0.00013531244972700987\n",
      "test_score  mean  0.8079767773715657\n",
      "test_score  std  0.036692834019000566\n",
      "---------------------------------\n",
      "RidgeClassifier()\n",
      "-----------------------------------\n",
      "fit_time  mean  0.014597487449645997\n",
      "fit_time  std  0.0008552355189403533\n",
      "score_time  mean  0.004298257827758789\n",
      "score_time  std  0.00017042372168024923\n",
      "test_score  mean  0.8076331144980677\n",
      "test_score  std  0.033841451232582476\n",
      "---------------------------------\n",
      "SVC()\n",
      "-----------------------------------\n",
      "fit_time  mean  0.35431780815124514\n",
      "fit_time  std  0.007488450443425627\n",
      "score_time  mean  0.03535773754119873\n",
      "score_time  std  0.0010758382244706727\n",
      "test_score  mean  0.8207411049719344\n",
      "test_score  std  0.03141403844071745\n",
      "---------------------------------\n",
      "KNeighborsClassifier(n_neighbors=3)\n",
      "-----------------------------------\n",
      "fit_time  mean  0.015061759948730468\n",
      "fit_time  std  0.0008634140946001365\n",
      "score_time  mean  0.11759519577026367\n",
      "score_time  std  0.007026006660796703\n",
      "test_score  mean  0.6974152228949655\n",
      "test_score  std  0.037933936009587554\n",
      "---------------------------------\n",
      "DecisionTreeClassifier()\n",
      "-----------------------------------\n",
      "fit_time  mean  0.20575301647186278\n",
      "fit_time  std  0.009742474875705183\n",
      "score_time  mean  0.0036876916885375975\n",
      "score_time  std  0.0004524746971400967\n",
      "test_score  mean  0.6298930643037615\n",
      "test_score  std  0.03545192036410219\n",
      "---------------------------------\n",
      "RandomForestClassifier(max_depth=5, n_estimators=5000, random_state=100)\n",
      "-----------------------------------\n",
      "fit_time  mean  30.851677966117858\n",
      "fit_time  std  0.32553639820690833\n",
      "score_time  mean  0.42785420417785647\n",
      "score_time  std  0.004663143979502119\n",
      "test_score  mean  0.8106170326569829\n",
      "test_score  std  0.03881454866927022\n",
      "---------------------------------\n",
      "GradientBoostingClassifier(max_depth=5, n_estimators=1000, random_state=100)\n",
      "-----------------------------------\n",
      "fit_time  mean  78.47379367351532\n",
      "fit_time  std  2.044234889155548\n",
      "score_time  mean  0.010645914077758788\n",
      "score_time  std  0.0006472277531996942\n",
      "test_score  mean  0.8262115962537464\n",
      "test_score  std  0.024502216921094083\n"
     ]
    }
   ],
   "source": [
    "for classifier in clfs:\n",
    "    pipeline = Pipeline([\n",
    "        ('normalizer', MinMaxScaler()), \n",
    "        ('clf', classifier)])\n",
    "    \n",
    "    scores = cross_validate(pipeline, \n",
    "                            X_train, \n",
    "                            y_train,\n",
    "                            cv = 10, \n",
    "                           scoring = \"roc_auc\")\n",
    "    print('---------------------------------')\n",
    "    print(str(classifier))\n",
    "    print('-----------------------------------')\n",
    "    for key, values in scores.items():\n",
    "            print(key,' mean ', values.mean())\n",
    "            print(key,' std ', values.std())\n",
    "    \n",
    "    model_metrics_placeholder[\"classifier\"].append(type(classifier).__name__)\n",
    "    model_metrics_placeholder[\"cross_validation_auc_score\"].append(scores[\"test_score\"].mean())\n",
    "    model_metrics_placeholder[\"cross_validation_std\"].append(scores[\"test_score\"].std())"
   ]
  },
  {
   "cell_type": "markdown",
   "metadata": {},
   "source": [
    "### Test-set Performance (ROC-AUC)"
   ]
  },
  {
   "cell_type": "code",
   "execution_count": 203,
   "metadata": {},
   "outputs": [
    {
     "name": "stdout",
     "output_type": "stream",
     "text": [
      "---------------------------------\n",
      "LogisticRegression()\n",
      "-----------------------------------\n",
      "ROC-AUC Score on Test-Set 0.7573237597911227 \n",
      "\n",
      "---------------------------------\n",
      "RidgeClassifier()\n",
      "-----------------------------------\n",
      "ROC-AUC Score on Test-Set 0.7694422751529351 \n",
      "\n",
      "---------------------------------\n",
      "SVC()\n",
      "-----------------------------------\n",
      "ROC-AUC Score on Test-Set 0.8076655294854835 \n",
      "\n",
      "---------------------------------\n",
      "KNeighborsClassifier(n_neighbors=3)\n",
      "-----------------------------------\n",
      "ROC-AUC Score on Test-Set 0.62514199935086 \n",
      "\n",
      "---------------------------------\n",
      "DecisionTreeClassifier()\n",
      "-----------------------------------\n",
      "ROC-AUC Score on Test-Set 0.6073957727360869 \n",
      "\n",
      "---------------------------------\n",
      "RandomForestClassifier(max_depth=5, n_estimators=5000, random_state=100)\n",
      "-----------------------------------\n",
      "ROC-AUC Score on Test-Set 0.8503665189226048 \n",
      "\n",
      "---------------------------------\n",
      "GradientBoostingClassifier(max_depth=5, n_estimators=1000, random_state=100)\n",
      "-----------------------------------\n",
      "ROC-AUC Score on Test-Set 0.7614026969857218 \n",
      "\n"
     ]
    }
   ],
   "source": [
    "for classifier in clfs:\n",
    "    print('---------------------------------')\n",
    "    print(str(classifier))\n",
    "    print('-----------------------------------')\n",
    "    pipeline = Pipeline([\n",
    "        ('normalizer', MinMaxScaler()), \n",
    "        ('clf', classifier)])\n",
    "    auc_score = roc_auc_score(pipeline.fit(X_train, y_train).predict(X_test), y_test)\n",
    "    print(\"ROC-AUC Score on Test-Set %s \\n\"%auc_score)\n",
    "    model_metrics_placeholder[\"test_auc_score\"].append(auc_score)"
   ]
  },
  {
   "cell_type": "markdown",
   "metadata": {},
   "source": [
    "### Visualizing Prediction Probability (Random Forest)"
   ]
  },
  {
   "cell_type": "code",
   "execution_count": 232,
   "metadata": {},
   "outputs": [],
   "source": [
    "pipeline = Pipeline([\n",
    "        ('normalizer', MinMaxScaler()), \n",
    "        ('clf', clfs[5])])"
   ]
  },
  {
   "cell_type": "code",
   "execution_count": null,
   "metadata": {},
   "outputs": [],
   "source": [
    "proba = pipeline.fit(X_train, y_train).predict_proba(X_test)\n",
    "proba = pd.DataFrame(proba).rename({0:\"Healthy Probability Score\", \n",
    "                                    1:\"PD Probability Score\"}, axis = 1)\n",
    "label = pd.DataFrame(y_test).reset_index(drop = True)\n",
    "proba_df = pd.concat([proba, label], axis = 1)"
   ]
  },
  {
   "cell_type": "code",
   "execution_count": 231,
   "metadata": {},
   "outputs": [
    {
     "data": {
      "image/png": "[encoded data removed]",
      "text/plain": [
       "<Figure size 720x360 with 1 Axes>"
      ]
     },
     "metadata": {
      "needs_background": "light"
     },
     "output_type": "display_data"
    }
   ],
   "source": [
    "plt.figure(figsize = (10,5))\n",
    "sns.distplot(proba_df[proba_df[\"PD\"] == 0][\"PD Probability Score\"], label = \"Healthy Controls\")\n",
    "sns.distplot(proba_df[proba_df[\"PD\"] == 1][\"PD Probability Score\"], label = \"PD\")\n",
    "sns.despine()\n",
    "\n",
    "plt.title(\"Random Forest Prediction Probability Given Healthy vs PD Users\")\n",
    "plt.xlabel(\"Assigned Probability\")\n",
    "plt.ylabel(\"Density\")\n",
    "plt.legend()\n",
    "plt.show()"
   ]
  },
  {
   "cell_type": "code",
   "execution_count": null,
   "metadata": {},
   "outputs": [],
   "source": []
  }
 ],
 "metadata": {
  "kernelspec": {
   "display_name": "test_venv",
   "language": "python",
   "name": "test_venv"
  },
  "language_info": {
   "codemirror_mode": {
    "name": "ipython",
    "version": 3
   },
   "file_extension": ".py",
   "mimetype": "text/x-python",
   "name": "python",
   "nbconvert_exporter": "python",
   "pygments_lexer": "ipython3",
   "version": "3.7.4"
  }
 },
 "nbformat": 4,
 "nbformat_minor": 4
}
